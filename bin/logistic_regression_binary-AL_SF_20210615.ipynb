{
 "cells": [
  {
   "cell_type": "code",
   "execution_count": null,
   "metadata": {},
   "outputs": [],
   "source": [
    "#%%\n",
    "# 20200817\n",
    "# sarahfong\n",
    "# perform logistic regression on:\n",
    "    # entropy\n",
    "    # uniqueness\n",
    "    # length of peaks\n",
    "    # TF binding. \n",
    "\n",
    "# perform on:\n",
    "    # entire dataset\n",
    "    # 250bp subsets of dataset."
   ]
  },
  {
   "cell_type": "code",
   "execution_count": 1,
   "metadata": {},
   "outputs": [],
   "source": [
    "#from collections import Counter \n",
    "\n",
    "import matplotlib.pyplot as plt # plotting graphs\n",
    "import numpy as np # arthimetic and algebraic operations, stats\n",
    "from numpy import mean # y tho?\n",
    "import pandas as pd # matrices and operation\n",
    "\n",
    "import seaborn as sns # a package for plotting. It makes your plots look nice.\n",
    "\n",
    "# import SPECIFIC functions from sklearn\n",
    "from sklearn.linear_model import LogisticRegression, LogisticRegressionCV\n",
    "from sklearn.model_selection import RepeatedStratifiedKFold, cross_val_score\n",
    "from sklearn import metrics, preprocessing\n",
    "from sklearn.model_selection import train_test_split\n",
    "from sklearn.metrics import classification_report, confusion_matrix, plot_roc_curve\n",
    "from sklearn.preprocessing import StandardScaler\n",
    "from sklearn.metrics import roc_curve, precision_recall_curve, auc, plot_precision_recall_curve\n",
    "\n",
    "\n",
    "from scipy import stats # great for stats\n",
    "\n",
    "import subprocess # great for sending commands to the commandline"
   ]
  },
  {
   "cell_type": "code",
   "execution_count": 2,
   "metadata": {},
   "outputs": [],
   "source": [
    "#%%\n",
    "PATH = \"/dors/capra_lab/users/fongsl/tres/data/gate/\"\n",
    "#f = \"%sfull_tf_arch_qtl_dataframe.bed\" % PATH\n",
    "f = \"%sfull_tf_arch_qtl_dataframe_clean_binary.bed\" % PATH\n",
    "\n",
    "RE =  \"/dors/capra_lab/users/fongsl/tres/results/gate/stim_unstim/\""
   ]
  },
  {
   "cell_type": "code",
   "execution_count": 3,
   "metadata": {},
   "outputs": [],
   "source": [
    "#%% clean up double-tab problem, load dataframe\n",
    "def squeeze_tabs(file):\n",
    "    outfile = file.split(\".\")[0] + \"_clean.bed\"\n",
    "    cmd = '''tr -s '\\t' < %s > %s''' %(file, outfile)\n",
    "    subprocess.call(cmd, shell = True)\n",
    "    return outfile"
   ]
  },
  {
   "cell_type": "code",
   "execution_count": 27,
   "metadata": {},
   "outputs": [],
   "source": [
    "# sarah doesn't like all of the text for transcription factors. Let's turn this into a variable\n",
    "\n",
    "tfs = ['AIRE','AP1/1','AP1/2','ARI5A',\\\n",
    "     'ARI5B','BATF','BCL6/1','BCL6/2','CCAAT/CEBP','CENBP','CPEB1','CREB/ATF/1',\\\n",
    "     'CREB/ATF/2','CREB/ATF/3','CREB3/XBP1','CTCF','CUX/1','CUX/2','CUX/3','CUX/4',\\\n",
    "     'DDIT3+CEBPA','DMRT1','DMRT3','E2F/1','E2F/2','E2F/3','E2F/4','EBF1','EGR',\\\n",
    "     'ETS/1','ETS/2','EVI1/MECOM','EWSR1/FLI1','Ebox/CACCTG','Ebox/CACGTG/1',\\\n",
    "     'Ebox/CACGTG/2','Ebox/CAGATGG','Ebox/CAGCTG','Ebox/CATATG','FEZF1', 'FOX/1',\\\n",
    "     'FOX/2','FOX/3','FOX/4','FOX/5','FOX/6','FOX/7','FOX/8','FOX/9',\\\n",
    "     'GATA','GC-tract','GCM','GFI','GLI','GLIS','GMEB2/1','GMEB2/2','GMEB2/3',\\\n",
    "     'GRHL','HAND1','HD/1','HD/10','HD/11','HD/12','HD/14','HD/15',\\\n",
    "     'HD/16','HD/17','HD/18','HD/19','HD/2','HD/21','HD/22','HD/23','HD/24','HD/25','HD/3',\\\n",
    "     'HD/4','HD/5','HD/6','HD/7','HD/8','HD/9','HEN1','HIC/1','HIC/2',\\\n",
    "     'HIF','HINFP1/1','HINFP1/2','HINFP1/3','HOMEZ','HSF','HSFY2','INSM1','IRF/1',\\\n",
    "     'IRF/2','IRF/3','IRF/4',\\\n",
    "     'KAISO','KLF/SP/1','KLF/SP/2',\\\n",
    "     'KLF/SP/3','LEF1','LIN54','MAF','MBD2','MECP2','MEF2','MFZ1','MIES','MTF1',\\\n",
    "     'MYB/1','MYB/2','MYB/3','MYB/4','MYB/5','MZF1','NFAC/2','NFAT/1','NFAT/2','NFAT/3',\\\n",
    "     'NFAT/4','NFI/1','NFI/3','NFKB/1','NFKB/2','NFKB/3','NFY','NR/1','NR/10','NR/11',\\\n",
    "     'NR/12','NR/13','NR/14','NR/15','NR/16','NR/17','NR/18','NR/19','NR/2','NR/20',\\\n",
    "     'NR/3','NR/4','NR/5','NR/6','NR/7','NR/8','NR/9','NRF1','OCT4+SOX2','OSR2','OVOL1',\\\n",
    "     'P53-like/1','P53-like/2','P53-like/3','PAX/1','PAX/2','PLAG1','POU/1','POU/2','POU/3',\\\n",
    "     'PRDM1','PRDM14','PRDM16','PRDM4','PRDM5','PRDM9','PROX1','RBPJ','REL-halfsite',\\\n",
    "     'REST/NRSF','RFX/1','RFX/2','RFX/3','RUNX/1','RUNX/2','SCRT1','SIX/1','SIX/2','SMAD',\\\n",
    "     'SMARCA1','SMARCA5','SOX/1','SOX/3','SOX/4','SOX/5','SOX/6','SOX/7','SOX/8',\\\n",
    "     'SPDEF/1','SPDEF/2','SPI','SPZ1','SREBF1','SRF','STAT/1','STAT/2','TATA','TBX/1',\\\n",
    "     'TBX/2','TBX/3','TBX/4','TCF/LEF','TEAD','TFAP2/1','TFAP2/2','TFCP2','THAP1','YY1',\\\n",
    "     'ZBED1','ZBTB14','ZBTB48','ZBTB49','ZBTB6','ZBTB7A','ZFN121','ZFX','ZIC','ZIC/2',\\\n",
    "     'ZIM3','ZKSCAN1','ZNF134','ZNF136','ZNF140','ZNF143','ZNF146','ZNF232','ZNF24',\\\n",
    "     'ZNF250','ZNF257','ZNF274','ZNF28','ZNF282','ZNF306','ZNF317','ZNF320','ZNF324',\\\n",
    "     'ZNF329','ZNF331','ZNF332','ZNF335','ZNF354','ZNF382','ZNF384/1','ZNF384/2',\\\n",
    "     'ZNF41','ZNF410','ZNF418','ZNF423','ZNF431','ZNF435','ZNF436','ZNF449','ZNF490',\\\n",
    "     'ZNF524','ZNF528','ZNF547','ZNF549','ZNF554','ZNF563','ZNF57','ZNF586','ZNF652',\\\n",
    "     'ZNF667','ZNF680','ZNF708','ZNF713','ZNF768','ZNF784','ZNF85','ZSCAN3','ZSCAN4']\n",
    "\n"
   ]
  },
  {
   "cell_type": "code",
   "execution_count": 47,
   "metadata": {},
   "outputs": [],
   "source": [
    "if \"clean\" not in f:\n",
    "    cleanf = squeeze_tabs(f)\n",
    "    df = pd.read_csv(cleanf, sep = '\\t', header = None).drop_duplicates()\n",
    "    # name columns\n",
    "\n",
    "    df.columns = [ 'chr','start','end','peak_id','state',\\\n",
    "     'peak_len','tfbs_count','tfbs_density','uniq_tfbs_count','uniq_score','ent',\\\n",
    "      tfs,\n",
    "     \"chr_q\", \"start_q\", \"end_q\", \"qtl_id\", \"qtl_overlap_len\"]\n",
    "\n",
    "     # create qtl-overlap binary\n",
    "    df[\"qtl_overlap\"] = 0\n",
    "    df.loc[df.qtl_overlap_len > 0, \"qtl_overlap\"] = 1\n",
    "\n",
    "    # create state binary\n",
    "    df[\"state_bin\"] = 0\n",
    "    df.loc[df.state == \"shared_only\", \"state_bin\"] = -1 # shared_only = -1\n",
    "    df.loc[df.state == \"stim_only\", \"state_bin\"] = 1 # stim_only = +1\n",
    "    df.to_csv(cleanf, sep = '\\t', index = False)\n",
    "else:\n",
    "\n",
    "    cleanf = f\n",
    "    df = pd.read_csv(cleanf, sep = '\\t').drop_duplicates() # read the data file into a matrix\n",
    "   \n",
    "    ninety_fifth = df.peak_len.quantile(q=0.95)# what is the 95% of peak lengths? (i.e. really long peak lengths)\n",
    "    df = df.loc[df.peak_len < ninety_fifth] # remove 95% outliers  # let's reduce the data array to exclude any peak \n",
    "    #that is greater than the 95% of peak lengths"
   ]
  },
  {
   "cell_type": "code",
   "execution_count": 49,
   "metadata": {},
   "outputs": [
    {
     "data": {
      "text/plain": [
       "(60458, 290)"
      ]
     },
     "execution_count": 49,
     "metadata": {},
     "output_type": "execute_result"
    }
   ],
   "source": [
    "df.shape # what are the dimensions of the array?"
   ]
  },
  {
   "cell_type": "code",
   "execution_count": 50,
   "metadata": {},
   "outputs": [
    {
     "data": {
      "text/html": [
       "<div>\n",
       "<style scoped>\n",
       "    .dataframe tbody tr th:only-of-type {\n",
       "        vertical-align: middle;\n",
       "    }\n",
       "\n",
       "    .dataframe tbody tr th {\n",
       "        vertical-align: top;\n",
       "    }\n",
       "\n",
       "    .dataframe thead th {\n",
       "        text-align: right;\n",
       "    }\n",
       "</style>\n",
       "<table border=\"1\" class=\"dataframe\">\n",
       "  <thead>\n",
       "    <tr style=\"text-align: right;\">\n",
       "      <th></th>\n",
       "      <th>chr</th>\n",
       "      <th>start</th>\n",
       "      <th>end</th>\n",
       "      <th>peak_id</th>\n",
       "      <th>state</th>\n",
       "      <th>peak_len</th>\n",
       "      <th>tfbs_count</th>\n",
       "      <th>tfbs_density</th>\n",
       "      <th>uniq_tfbs_count</th>\n",
       "      <th>uniq_score</th>\n",
       "      <th>...</th>\n",
       "      <th>ZNF652</th>\n",
       "      <th>ZNF667</th>\n",
       "      <th>ZNF680</th>\n",
       "      <th>ZNF708</th>\n",
       "      <th>ZNF713</th>\n",
       "      <th>ZNF768</th>\n",
       "      <th>ZNF784</th>\n",
       "      <th>ZNF85</th>\n",
       "      <th>ZSCAN3</th>\n",
       "      <th>ZSCAN4</th>\n",
       "    </tr>\n",
       "  </thead>\n",
       "  <tbody>\n",
       "    <tr>\n",
       "      <th>0</th>\n",
       "      <td>chr10</td>\n",
       "      <td>98361327</td>\n",
       "      <td>98361628</td>\n",
       "      <td>chr10:100121084-100121385</td>\n",
       "      <td>stim_only</td>\n",
       "      <td>301</td>\n",
       "      <td>85</td>\n",
       "      <td>0.282392</td>\n",
       "      <td>56</td>\n",
       "      <td>0.658824</td>\n",
       "      <td>...</td>\n",
       "      <td>0.0</td>\n",
       "      <td>0.0</td>\n",
       "      <td>0.0</td>\n",
       "      <td>0.0</td>\n",
       "      <td>0.0</td>\n",
       "      <td>1.0</td>\n",
       "      <td>0.0</td>\n",
       "      <td>0.0</td>\n",
       "      <td>0.0</td>\n",
       "      <td>0.0</td>\n",
       "    </tr>\n",
       "    <tr>\n",
       "      <th>1</th>\n",
       "      <td>chr10</td>\n",
       "      <td>98404247</td>\n",
       "      <td>98404859</td>\n",
       "      <td>chr10:100164004-100164616</td>\n",
       "      <td>stim_only</td>\n",
       "      <td>612</td>\n",
       "      <td>152</td>\n",
       "      <td>0.248366</td>\n",
       "      <td>82</td>\n",
       "      <td>0.539474</td>\n",
       "      <td>...</td>\n",
       "      <td>0.0</td>\n",
       "      <td>0.0</td>\n",
       "      <td>0.0</td>\n",
       "      <td>0.0</td>\n",
       "      <td>0.0</td>\n",
       "      <td>1.0</td>\n",
       "      <td>0.0</td>\n",
       "      <td>0.0</td>\n",
       "      <td>0.0</td>\n",
       "      <td>1.0</td>\n",
       "    </tr>\n",
       "    <tr>\n",
       "      <th>2</th>\n",
       "      <td>chr10</td>\n",
       "      <td>98414952</td>\n",
       "      <td>98415534</td>\n",
       "      <td>chr10:100174709-100175291</td>\n",
       "      <td>shared_only</td>\n",
       "      <td>582</td>\n",
       "      <td>385</td>\n",
       "      <td>0.661512</td>\n",
       "      <td>113</td>\n",
       "      <td>0.293506</td>\n",
       "      <td>...</td>\n",
       "      <td>0.0</td>\n",
       "      <td>1.0</td>\n",
       "      <td>0.0</td>\n",
       "      <td>1.0</td>\n",
       "      <td>0.0</td>\n",
       "      <td>1.0</td>\n",
       "      <td>0.0</td>\n",
       "      <td>0.0</td>\n",
       "      <td>1.0</td>\n",
       "      <td>0.0</td>\n",
       "    </tr>\n",
       "    <tr>\n",
       "      <th>3</th>\n",
       "      <td>chr10</td>\n",
       "      <td>98428333</td>\n",
       "      <td>98428590</td>\n",
       "      <td>chr10:100188090-100188347</td>\n",
       "      <td>shared_only</td>\n",
       "      <td>257</td>\n",
       "      <td>85</td>\n",
       "      <td>0.330739</td>\n",
       "      <td>62</td>\n",
       "      <td>0.729412</td>\n",
       "      <td>...</td>\n",
       "      <td>0.0</td>\n",
       "      <td>0.0</td>\n",
       "      <td>0.0</td>\n",
       "      <td>0.0</td>\n",
       "      <td>0.0</td>\n",
       "      <td>1.0</td>\n",
       "      <td>0.0</td>\n",
       "      <td>0.0</td>\n",
       "      <td>0.0</td>\n",
       "      <td>0.0</td>\n",
       "    </tr>\n",
       "    <tr>\n",
       "      <th>4</th>\n",
       "      <td>chr10</td>\n",
       "      <td>98446351</td>\n",
       "      <td>98447156</td>\n",
       "      <td>chr10:100206108-100206913</td>\n",
       "      <td>shared_only</td>\n",
       "      <td>805</td>\n",
       "      <td>679</td>\n",
       "      <td>0.843478</td>\n",
       "      <td>124</td>\n",
       "      <td>0.182622</td>\n",
       "      <td>...</td>\n",
       "      <td>0.0</td>\n",
       "      <td>1.0</td>\n",
       "      <td>1.0</td>\n",
       "      <td>0.0</td>\n",
       "      <td>0.0</td>\n",
       "      <td>1.0</td>\n",
       "      <td>0.0</td>\n",
       "      <td>0.0</td>\n",
       "      <td>1.0</td>\n",
       "      <td>0.0</td>\n",
       "    </tr>\n",
       "  </tbody>\n",
       "</table>\n",
       "<p>5 rows × 290 columns</p>\n",
       "</div>"
      ],
      "text/plain": [
       "     chr     start       end                    peak_id        state  \\\n",
       "0  chr10  98361327  98361628  chr10:100121084-100121385    stim_only   \n",
       "1  chr10  98404247  98404859  chr10:100164004-100164616    stim_only   \n",
       "2  chr10  98414952  98415534  chr10:100174709-100175291  shared_only   \n",
       "3  chr10  98428333  98428590  chr10:100188090-100188347  shared_only   \n",
       "4  chr10  98446351  98447156  chr10:100206108-100206913  shared_only   \n",
       "\n",
       "   peak_len  tfbs_count  tfbs_density  uniq_tfbs_count  uniq_score  ...  \\\n",
       "0       301          85      0.282392               56    0.658824  ...   \n",
       "1       612         152      0.248366               82    0.539474  ...   \n",
       "2       582         385      0.661512              113    0.293506  ...   \n",
       "3       257          85      0.330739               62    0.729412  ...   \n",
       "4       805         679      0.843478              124    0.182622  ...   \n",
       "\n",
       "   ZNF652 ZNF667  ZNF680  ZNF708 ZNF713  ZNF768  ZNF784  ZNF85  ZSCAN3  ZSCAN4  \n",
       "0     0.0    0.0     0.0     0.0    0.0     1.0     0.0    0.0     0.0     0.0  \n",
       "1     0.0    0.0     0.0     0.0    0.0     1.0     0.0    0.0     0.0     1.0  \n",
       "2     0.0    1.0     0.0     1.0    0.0     1.0     0.0    0.0     1.0     0.0  \n",
       "3     0.0    0.0     0.0     0.0    0.0     1.0     0.0    0.0     0.0     0.0  \n",
       "4     0.0    1.0     1.0     0.0    0.0     1.0     0.0    0.0     1.0     0.0  \n",
       "\n",
       "[5 rows x 290 columns]"
      ]
     },
     "execution_count": 50,
     "metadata": {},
     "output_type": "execute_result"
    }
   ],
   "source": [
    "df.head() # what does the dataframe look like? Let's peak."
   ]
  },
  {
   "cell_type": "code",
   "execution_count": 12,
   "metadata": {},
   "outputs": [
    {
     "data": {
      "text/plain": [
       "(0.0, 1000.0)"
      ]
     },
     "execution_count": 12,
     "metadata": {},
     "output_type": "execute_result"
    },
    {
     "data": {
      "image/png": "[encoded data removed]",
      "text/plain": [
       "<Figure size 360x360 with 1 Axes>"
      ]
     },
     "metadata": {
      "needs_background": "light"
     },
     "output_type": "display_data"
    }
   ],
   "source": [
    "# let's look at a distribution\n",
    "\n",
    "sns.displot(df.tfbs_count)\n",
    "plt.xlim(0,1000)"
   ]
  },
  {
   "cell_type": "code",
   "execution_count": 13,
   "metadata": {},
   "outputs": [
    {
     "data": {
      "text/plain": [
       "<seaborn.axisgrid.FacetGrid at 0x7ff39ef6be10>"
      ]
     },
     "execution_count": 13,
     "metadata": {},
     "output_type": "execute_result"
    },
    {
     "data": {
      "image/png": "[encoded data removed]",
      "text/plain": [
       "<Figure size 360x360 with 1 Axes>"
      ]
     },
     "metadata": {
      "needs_background": "light"
     },
     "output_type": "display_data"
    }
   ],
   "source": [
    "sns.displot(df[\"tfbs_count\"]) # two different ways to do the same thing. "
   ]
  },
  {
   "cell_type": "code",
   "execution_count": 14,
   "metadata": {},
   "outputs": [
    {
     "data": {
      "text/plain": [
       "<seaborn.axisgrid.FacetGrid at 0x7ff39e8f3cc0>"
      ]
     },
     "execution_count": 14,
     "metadata": {},
     "output_type": "execute_result"
    },
    {
     "data": {
      "image/png": "[encoded data removed]",
      "text/plain": [
       "<Figure size 360x360 with 1 Axes>"
      ]
     },
     "metadata": {
      "needs_background": "light"
     },
     "output_type": "display_data"
    }
   ],
   "source": [
    "# let's look at TFBS density (#TFBS/length (bp) per enhancer)\n",
    "\n",
    "sns.displot(df.tfbs_density)"
   ]
  },
  {
   "cell_type": "code",
   "execution_count": 18,
   "metadata": {},
   "outputs": [
    {
     "data": {
      "text/plain": [
       "<seaborn.axisgrid.FacetGrid at 0x7ff39ef5b4a8>"
      ]
     },
     "execution_count": 18,
     "metadata": {},
     "output_type": "execute_result"
    },
    {
     "data": {
      "image/png": "[encoded data removed]",
      "text/plain": [
       "<Figure size 360x360 with 1 Axes>"
      ]
     },
     "metadata": {
      "needs_background": "light"
     },
     "output_type": "display_data"
    }
   ],
   "source": [
    "# let's look at a transcription factor \n",
    "sns.displot(df['BATF'])"
   ]
  },
  {
   "cell_type": "code",
   "execution_count": null,
   "metadata": {},
   "outputs": [],
   "source": [
    "# let's look at a transcription factor \n",
    "sns.displot(df['AP1/1'])"
   ]
  },
  {
   "cell_type": "code",
   "execution_count": 17,
   "metadata": {},
   "outputs": [
    {
     "data": {
      "text/html": [
       "<div>\n",
       "<style scoped>\n",
       "    .dataframe tbody tr th:only-of-type {\n",
       "        vertical-align: middle;\n",
       "    }\n",
       "\n",
       "    .dataframe tbody tr th {\n",
       "        vertical-align: top;\n",
       "    }\n",
       "\n",
       "    .dataframe thead th {\n",
       "        text-align: right;\n",
       "    }\n",
       "</style>\n",
       "<table border=\"1\" class=\"dataframe\">\n",
       "  <thead>\n",
       "    <tr style=\"text-align: right;\">\n",
       "      <th></th>\n",
       "      <th>peak_id</th>\n",
       "      <th>tfbs_density</th>\n",
       "    </tr>\n",
       "  </thead>\n",
       "  <tbody>\n",
       "    <tr>\n",
       "      <th>45730</th>\n",
       "      <td>chr4:26211197-26211388</td>\n",
       "      <td>4.408377</td>\n",
       "    </tr>\n",
       "    <tr>\n",
       "      <th>56045</th>\n",
       "      <td>chr7:71144999-71145507</td>\n",
       "      <td>4.027559</td>\n",
       "    </tr>\n",
       "    <tr>\n",
       "      <th>12894</th>\n",
       "      <td>chr15:60642188-60642367</td>\n",
       "      <td>3.893855</td>\n",
       "    </tr>\n",
       "    <tr>\n",
       "      <th>39188</th>\n",
       "      <td>chr2:7628725-7628901</td>\n",
       "      <td>3.409091</td>\n",
       "    </tr>\n",
       "    <tr>\n",
       "      <th>63479</th>\n",
       "      <td>chrX:8137212-8137746</td>\n",
       "      <td>3.331461</td>\n",
       "    </tr>\n",
       "    <tr>\n",
       "      <th>...</th>\n",
       "      <td>...</td>\n",
       "      <td>...</td>\n",
       "    </tr>\n",
       "    <tr>\n",
       "      <th>48850</th>\n",
       "      <td>chr5:4973973-4974160</td>\n",
       "      <td>0.037433</td>\n",
       "    </tr>\n",
       "    <tr>\n",
       "      <th>56714</th>\n",
       "      <td>chr8:104576356-104576517</td>\n",
       "      <td>0.037267</td>\n",
       "    </tr>\n",
       "    <tr>\n",
       "      <th>54872</th>\n",
       "      <td>chr7:155751113-155751387</td>\n",
       "      <td>0.029197</td>\n",
       "    </tr>\n",
       "    <tr>\n",
       "      <th>41060</th>\n",
       "      <td>chr3:143622074-143622276</td>\n",
       "      <td>0.019802</td>\n",
       "    </tr>\n",
       "    <tr>\n",
       "      <th>51549</th>\n",
       "      <td>chr6:166032524-166033185</td>\n",
       "      <td>0.007564</td>\n",
       "    </tr>\n",
       "  </tbody>\n",
       "</table>\n",
       "<p>63644 rows × 2 columns</p>\n",
       "</div>"
      ],
      "text/plain": [
       "                        peak_id  tfbs_density\n",
       "45730    chr4:26211197-26211388      4.408377\n",
       "56045    chr7:71144999-71145507      4.027559\n",
       "12894   chr15:60642188-60642367      3.893855\n",
       "39188      chr2:7628725-7628901      3.409091\n",
       "63479      chrX:8137212-8137746      3.331461\n",
       "...                         ...           ...\n",
       "48850      chr5:4973973-4974160      0.037433\n",
       "56714  chr8:104576356-104576517      0.037267\n",
       "54872  chr7:155751113-155751387      0.029197\n",
       "41060  chr3:143622074-143622276      0.019802\n",
       "51549  chr6:166032524-166033185      0.007564\n",
       "\n",
       "[63644 rows x 2 columns]"
      ]
     },
     "execution_count": 17,
     "metadata": {},
     "output_type": "execute_result"
    }
   ],
   "source": [
    "df[[\"peak_id\", \"tfbs_density\"]].sort_values(by = \"tfbs_density\", ascending = False)"
   ]
  },
  {
   "cell_type": "code",
   "execution_count": 15,
   "metadata": {},
   "outputs": [
    {
     "data": {
      "text/plain": [
       "count    63644.000000\n",
       "mean       490.102743\n",
       "std        353.552354\n",
       "min        154.000000\n",
       "25%        228.000000\n",
       "50%        363.000000\n",
       "75%        645.000000\n",
       "max      13008.000000\n",
       "Name: peak_len, dtype: float64"
      ]
     },
     "execution_count": 15,
     "metadata": {},
     "output_type": "execute_result"
    }
   ],
   "source": [
    "df[\"peak_len\"].describe() # get information about basic statistics for a column in the matrix. "
   ]
  },
  {
   "cell_type": "code",
   "execution_count": 12,
   "metadata": {},
   "outputs": [
    {
     "data": {
      "text/plain": [
       "<seaborn.axisgrid.FacetGrid at 0x7fb69f306978>"
      ]
     },
     "execution_count": 12,
     "metadata": {},
     "output_type": "execute_result"
    },
    {
     "data": {
      "image/png": "[encoded data removed]",
      "text/plain": [
       "<Figure size 360x360 with 1 Axes>"
      ]
     },
     "metadata": {
      "needs_background": "light"
     },
     "output_type": "display_data"
    }
   ],
   "source": [
    "sns.displot(df.peak_len)"
   ]
  },
  {
   "cell_type": "markdown",
   "metadata": {},
   "source": [
    "# Let's scale some data"
   ]
  },
  {
   "cell_type": "code",
   "execution_count": 118,
   "metadata": {},
   "outputs": [],
   "source": [
    "# let's scale the peak length\n",
    "colnames_to_scale = ['peak_len','tfbs_count','tfbs_density','uniq_tfbs_count']\n",
    "X = df[colnames_to_scale]"
   ]
  },
  {
   "cell_type": "code",
   "execution_count": 119,
   "metadata": {},
   "outputs": [
    {
     "data": {
      "text/plain": [
       "peak_len           154.000000\n",
       "tfbs_count           4.000000\n",
       "tfbs_density         0.007564\n",
       "uniq_tfbs_count      2.000000\n",
       "dtype: float64"
      ]
     },
     "execution_count": 119,
     "metadata": {},
     "output_type": "execute_result"
    }
   ],
   "source": [
    "X.min(axis=0) # what is the min size of an enhancer?"
   ]
  },
  {
   "cell_type": "code",
   "execution_count": 120,
   "metadata": {},
   "outputs": [
    {
     "data": {
      "text/plain": [
       "peak_len           1206.000000\n",
       "tfbs_count         2254.000000\n",
       "tfbs_density          4.408377\n",
       "uniq_tfbs_count     164.000000\n",
       "dtype: float64"
      ]
     },
     "execution_count": 120,
     "metadata": {},
     "output_type": "execute_result"
    }
   ],
   "source": [
    "X.max(axis=0) # what is the largest size of an enhancer?"
   ]
  },
  {
   "cell_type": "code",
   "execution_count": 124,
   "metadata": {},
   "outputs": [
    {
     "data": {
      "text/plain": [
       "array([1206.        , 2254.        ,    4.40837696,  164.        ])"
      ]
     },
     "execution_count": 124,
     "metadata": {},
     "output_type": "execute_result"
    }
   ],
   "source": [
    "from sklearn.preprocessing import MinMaxScaler # import the MinMaxScaler function\n",
    "scaler = MinMaxScaler() # initialize the scaler function\n",
    "scaler.fit(X) # fit the model\n",
    "scaler.data_max_ # let's look at the max"
   ]
  },
  {
   "cell_type": "code",
   "execution_count": 125,
   "metadata": {},
   "outputs": [
    {
     "data": {
      "text/plain": [
       "array([1052.        , 2250.        ,    4.40081267,  162.        ])"
      ]
     },
     "execution_count": 125,
     "metadata": {},
     "output_type": "execute_result"
    }
   ],
   "source": [
    "scaler.data_range_ # let's look at the range"
   ]
  },
  {
   "cell_type": "code",
   "execution_count": null,
   "metadata": {},
   "outputs": [],
   "source": [
    " # let's transform the data into a dataframe array\n",
    "scaled_data = pd.DataFrame(scaler.transform(X), columns = colnames_to_scale) \n",
    "\n",
    "scaled_data.head()"
   ]
  },
  {
   "cell_type": "code",
   "execution_count": 128,
   "metadata": {},
   "outputs": [],
   "source": [
    "# let's make a dataframe that has the scaled data with the TF data and enhancer information\n",
    "to_merge_colnames = tfs + ['uniq_score','ent', 'state'] # list of column names "
   ]
  },
  {
   "cell_type": "code",
   "execution_count": 129,
   "metadata": {},
   "outputs": [
    {
     "data": {
      "text/html": [
       "<div>\n",
       "<style scoped>\n",
       "    .dataframe tbody tr th:only-of-type {\n",
       "        vertical-align: middle;\n",
       "    }\n",
       "\n",
       "    .dataframe tbody tr th {\n",
       "        vertical-align: top;\n",
       "    }\n",
       "\n",
       "    .dataframe thead th {\n",
       "        text-align: right;\n",
       "    }\n",
       "</style>\n",
       "<table border=\"1\" class=\"dataframe\">\n",
       "  <thead>\n",
       "    <tr style=\"text-align: right;\">\n",
       "      <th></th>\n",
       "      <th>peak_len</th>\n",
       "      <th>tfbs_count</th>\n",
       "      <th>tfbs_density</th>\n",
       "      <th>uniq_tfbs_count</th>\n",
       "      <th>AIRE</th>\n",
       "      <th>AP1/1</th>\n",
       "      <th>AP1/2</th>\n",
       "      <th>ARI5A</th>\n",
       "      <th>ARI5B</th>\n",
       "      <th>BATF</th>\n",
       "      <th>...</th>\n",
       "      <th>ZNF708</th>\n",
       "      <th>ZNF713</th>\n",
       "      <th>ZNF768</th>\n",
       "      <th>ZNF784</th>\n",
       "      <th>ZNF85</th>\n",
       "      <th>ZSCAN3</th>\n",
       "      <th>ZSCAN4</th>\n",
       "      <th>uniq_score</th>\n",
       "      <th>ent</th>\n",
       "      <th>state</th>\n",
       "    </tr>\n",
       "  </thead>\n",
       "  <tbody>\n",
       "    <tr>\n",
       "      <th>0</th>\n",
       "      <td>0.139734</td>\n",
       "      <td>0.036000</td>\n",
       "      <td>0.062449</td>\n",
       "      <td>0.333333</td>\n",
       "      <td>0.0</td>\n",
       "      <td>1.0</td>\n",
       "      <td>1.0</td>\n",
       "      <td>0.0</td>\n",
       "      <td>0.0</td>\n",
       "      <td>0.0</td>\n",
       "      <td>...</td>\n",
       "      <td>0.0</td>\n",
       "      <td>0.0</td>\n",
       "      <td>1.0</td>\n",
       "      <td>0.0</td>\n",
       "      <td>0.0</td>\n",
       "      <td>0.0</td>\n",
       "      <td>0.0</td>\n",
       "      <td>0.658824</td>\n",
       "      <td>5.603164</td>\n",
       "      <td>stim_only</td>\n",
       "    </tr>\n",
       "    <tr>\n",
       "      <th>1</th>\n",
       "      <td>0.435361</td>\n",
       "      <td>0.065778</td>\n",
       "      <td>0.054718</td>\n",
       "      <td>0.493827</td>\n",
       "      <td>1.0</td>\n",
       "      <td>1.0</td>\n",
       "      <td>1.0</td>\n",
       "      <td>0.0</td>\n",
       "      <td>0.0</td>\n",
       "      <td>1.0</td>\n",
       "      <td>...</td>\n",
       "      <td>0.0</td>\n",
       "      <td>0.0</td>\n",
       "      <td>1.0</td>\n",
       "      <td>0.0</td>\n",
       "      <td>0.0</td>\n",
       "      <td>0.0</td>\n",
       "      <td>1.0</td>\n",
       "      <td>0.539474</td>\n",
       "      <td>5.979183</td>\n",
       "      <td>stim_only</td>\n",
       "    </tr>\n",
       "    <tr>\n",
       "      <th>2</th>\n",
       "      <td>0.406844</td>\n",
       "      <td>0.169333</td>\n",
       "      <td>0.148597</td>\n",
       "      <td>0.685185</td>\n",
       "      <td>0.0</td>\n",
       "      <td>0.0</td>\n",
       "      <td>1.0</td>\n",
       "      <td>0.0</td>\n",
       "      <td>0.0</td>\n",
       "      <td>0.0</td>\n",
       "      <td>...</td>\n",
       "      <td>1.0</td>\n",
       "      <td>0.0</td>\n",
       "      <td>1.0</td>\n",
       "      <td>0.0</td>\n",
       "      <td>0.0</td>\n",
       "      <td>1.0</td>\n",
       "      <td>0.0</td>\n",
       "      <td>0.293506</td>\n",
       "      <td>5.551870</td>\n",
       "      <td>shared_only</td>\n",
       "    </tr>\n",
       "    <tr>\n",
       "      <th>3</th>\n",
       "      <td>0.097909</td>\n",
       "      <td>0.036000</td>\n",
       "      <td>0.073435</td>\n",
       "      <td>0.370370</td>\n",
       "      <td>0.0</td>\n",
       "      <td>0.0</td>\n",
       "      <td>1.0</td>\n",
       "      <td>0.0</td>\n",
       "      <td>0.0</td>\n",
       "      <td>0.0</td>\n",
       "      <td>...</td>\n",
       "      <td>0.0</td>\n",
       "      <td>0.0</td>\n",
       "      <td>1.0</td>\n",
       "      <td>0.0</td>\n",
       "      <td>0.0</td>\n",
       "      <td>0.0</td>\n",
       "      <td>0.0</td>\n",
       "      <td>0.729412</td>\n",
       "      <td>5.779864</td>\n",
       "      <td>shared_only</td>\n",
       "    </tr>\n",
       "    <tr>\n",
       "      <th>4</th>\n",
       "      <td>0.618821</td>\n",
       "      <td>0.300000</td>\n",
       "      <td>0.189945</td>\n",
       "      <td>0.753086</td>\n",
       "      <td>0.0</td>\n",
       "      <td>1.0</td>\n",
       "      <td>1.0</td>\n",
       "      <td>0.0</td>\n",
       "      <td>0.0</td>\n",
       "      <td>0.0</td>\n",
       "      <td>...</td>\n",
       "      <td>0.0</td>\n",
       "      <td>0.0</td>\n",
       "      <td>1.0</td>\n",
       "      <td>0.0</td>\n",
       "      <td>0.0</td>\n",
       "      <td>1.0</td>\n",
       "      <td>0.0</td>\n",
       "      <td>0.182622</td>\n",
       "      <td>5.590985</td>\n",
       "      <td>shared_only</td>\n",
       "    </tr>\n",
       "  </tbody>\n",
       "</table>\n",
       "<p>5 rows × 279 columns</p>\n",
       "</div>"
      ],
      "text/plain": [
       "   peak_len  tfbs_count  tfbs_density  uniq_tfbs_count  AIRE  AP1/1  AP1/2  \\\n",
       "0  0.139734    0.036000      0.062449         0.333333   0.0    1.0    1.0   \n",
       "1  0.435361    0.065778      0.054718         0.493827   1.0    1.0    1.0   \n",
       "2  0.406844    0.169333      0.148597         0.685185   0.0    0.0    1.0   \n",
       "3  0.097909    0.036000      0.073435         0.370370   0.0    0.0    1.0   \n",
       "4  0.618821    0.300000      0.189945         0.753086   0.0    1.0    1.0   \n",
       "\n",
       "   ARI5A  ARI5B  BATF  ...  ZNF708  ZNF713  ZNF768  ZNF784  ZNF85  ZSCAN3  \\\n",
       "0    0.0    0.0   0.0  ...     0.0     0.0     1.0     0.0    0.0     0.0   \n",
       "1    0.0    0.0   1.0  ...     0.0     0.0     1.0     0.0    0.0     0.0   \n",
       "2    0.0    0.0   0.0  ...     1.0     0.0     1.0     0.0    0.0     1.0   \n",
       "3    0.0    0.0   0.0  ...     0.0     0.0     1.0     0.0    0.0     0.0   \n",
       "4    0.0    0.0   0.0  ...     0.0     0.0     1.0     0.0    0.0     1.0   \n",
       "\n",
       "   ZSCAN4  uniq_score       ent        state  \n",
       "0     0.0    0.658824  5.603164    stim_only  \n",
       "1     1.0    0.539474  5.979183    stim_only  \n",
       "2     0.0    0.293506  5.551870  shared_only  \n",
       "3     0.0    0.729412  5.779864  shared_only  \n",
       "4     0.0    0.182622  5.590985  shared_only  \n",
       "\n",
       "[5 rows x 279 columns]"
      ]
     },
     "execution_count": 129,
     "metadata": {},
     "output_type": "execute_result"
    }
   ],
   "source": [
    "merged_and_scaled_data = pd.merge(scaled_data, df[to_merge_colnames], left_index = True, right_index = True)\n",
    "merged_and_scaled_data.head()"
   ]
  },
  {
   "cell_type": "code",
   "execution_count": 130,
   "metadata": {},
   "outputs": [
    {
     "data": {
      "text/plain": [
       "state\n",
       "shared_only    24500\n",
       "stim_only      26083\n",
       "unstim_only     6810\n",
       "Name: peak_len, dtype: int64"
      ]
     },
     "execution_count": 130,
     "metadata": {},
     "output_type": "execute_result"
    }
   ],
   "source": [
    "# how many enhancers belong to each state?\n",
    "merged_and_scaled_data.groupby(\"state\")[\"peak_len\"].count()"
   ]
  },
  {
   "cell_type": "code",
   "execution_count": 132,
   "metadata": {},
   "outputs": [],
   "source": [
    "# remove state value from to_merge_colnames list so that logistic regression does not fit\n",
    "# the variable \"state\" when it is trying to predict \"state\"\n",
    "to_merge_colnames.remove(\"state\")"
   ]
  },
  {
   "cell_type": "code",
   "execution_count": 138,
   "metadata": {},
   "outputs": [],
   "source": [
    "#%% Xvars,yvars\n",
    "Xvars = to_merge_colnames + [\"peak_len\", \"tfbs_count\", \"tfbs_density\", \"uniq_tfbs_count\"] # add two lists of strings together\n",
    "\n",
    "yvars = [\"state\"] # resting (unstimulated) or active (stimulated)"
   ]
  },
  {
   "cell_type": "code",
   "execution_count": 139,
   "metadata": {},
   "outputs": [
    {
     "data": {
      "text/html": [
       "<div>\n",
       "<style scoped>\n",
       "    .dataframe tbody tr th:only-of-type {\n",
       "        vertical-align: middle;\n",
       "    }\n",
       "\n",
       "    .dataframe tbody tr th {\n",
       "        vertical-align: top;\n",
       "    }\n",
       "\n",
       "    .dataframe thead th {\n",
       "        text-align: right;\n",
       "    }\n",
       "</style>\n",
       "<table border=\"1\" class=\"dataframe\">\n",
       "  <thead>\n",
       "    <tr style=\"text-align: right;\">\n",
       "      <th></th>\n",
       "      <th>peak_len</th>\n",
       "      <th>tfbs_count</th>\n",
       "      <th>tfbs_density</th>\n",
       "      <th>uniq_tfbs_count</th>\n",
       "      <th>AIRE</th>\n",
       "      <th>AP1/1</th>\n",
       "      <th>AP1/2</th>\n",
       "      <th>ARI5A</th>\n",
       "      <th>ARI5B</th>\n",
       "      <th>BATF</th>\n",
       "      <th>...</th>\n",
       "      <th>ZNF708</th>\n",
       "      <th>ZNF713</th>\n",
       "      <th>ZNF768</th>\n",
       "      <th>ZNF784</th>\n",
       "      <th>ZNF85</th>\n",
       "      <th>ZSCAN3</th>\n",
       "      <th>ZSCAN4</th>\n",
       "      <th>uniq_score</th>\n",
       "      <th>ent</th>\n",
       "      <th>state</th>\n",
       "    </tr>\n",
       "  </thead>\n",
       "  <tbody>\n",
       "    <tr>\n",
       "      <th>0</th>\n",
       "      <td>0.139734</td>\n",
       "      <td>0.036000</td>\n",
       "      <td>0.062449</td>\n",
       "      <td>0.333333</td>\n",
       "      <td>0.0</td>\n",
       "      <td>1.0</td>\n",
       "      <td>1.0</td>\n",
       "      <td>0.0</td>\n",
       "      <td>0.0</td>\n",
       "      <td>0.0</td>\n",
       "      <td>...</td>\n",
       "      <td>0.0</td>\n",
       "      <td>0.0</td>\n",
       "      <td>1.0</td>\n",
       "      <td>0.0</td>\n",
       "      <td>0.0</td>\n",
       "      <td>0.0</td>\n",
       "      <td>0.0</td>\n",
       "      <td>0.658824</td>\n",
       "      <td>5.603164</td>\n",
       "      <td>stim_only</td>\n",
       "    </tr>\n",
       "    <tr>\n",
       "      <th>1</th>\n",
       "      <td>0.435361</td>\n",
       "      <td>0.065778</td>\n",
       "      <td>0.054718</td>\n",
       "      <td>0.493827</td>\n",
       "      <td>1.0</td>\n",
       "      <td>1.0</td>\n",
       "      <td>1.0</td>\n",
       "      <td>0.0</td>\n",
       "      <td>0.0</td>\n",
       "      <td>1.0</td>\n",
       "      <td>...</td>\n",
       "      <td>0.0</td>\n",
       "      <td>0.0</td>\n",
       "      <td>1.0</td>\n",
       "      <td>0.0</td>\n",
       "      <td>0.0</td>\n",
       "      <td>0.0</td>\n",
       "      <td>1.0</td>\n",
       "      <td>0.539474</td>\n",
       "      <td>5.979183</td>\n",
       "      <td>stim_only</td>\n",
       "    </tr>\n",
       "    <tr>\n",
       "      <th>6</th>\n",
       "      <td>0.260456</td>\n",
       "      <td>0.056000</td>\n",
       "      <td>0.067300</td>\n",
       "      <td>0.425926</td>\n",
       "      <td>0.0</td>\n",
       "      <td>0.0</td>\n",
       "      <td>1.0</td>\n",
       "      <td>0.0</td>\n",
       "      <td>0.0</td>\n",
       "      <td>1.0</td>\n",
       "      <td>...</td>\n",
       "      <td>0.0</td>\n",
       "      <td>0.0</td>\n",
       "      <td>0.0</td>\n",
       "      <td>0.0</td>\n",
       "      <td>0.0</td>\n",
       "      <td>0.0</td>\n",
       "      <td>0.0</td>\n",
       "      <td>0.546154</td>\n",
       "      <td>5.630006</td>\n",
       "      <td>stim_only</td>\n",
       "    </tr>\n",
       "    <tr>\n",
       "      <th>7</th>\n",
       "      <td>0.029468</td>\n",
       "      <td>0.015556</td>\n",
       "      <td>0.046184</td>\n",
       "      <td>0.185185</td>\n",
       "      <td>0.0</td>\n",
       "      <td>0.0</td>\n",
       "      <td>0.0</td>\n",
       "      <td>0.0</td>\n",
       "      <td>0.0</td>\n",
       "      <td>0.0</td>\n",
       "      <td>...</td>\n",
       "      <td>0.0</td>\n",
       "      <td>0.0</td>\n",
       "      <td>0.0</td>\n",
       "      <td>0.0</td>\n",
       "      <td>1.0</td>\n",
       "      <td>0.0</td>\n",
       "      <td>0.0</td>\n",
       "      <td>0.820513</td>\n",
       "      <td>4.926428</td>\n",
       "      <td>stim_only</td>\n",
       "    </tr>\n",
       "    <tr>\n",
       "      <th>9</th>\n",
       "      <td>0.041825</td>\n",
       "      <td>0.020444</td>\n",
       "      <td>0.055663</td>\n",
       "      <td>0.160494</td>\n",
       "      <td>0.0</td>\n",
       "      <td>1.0</td>\n",
       "      <td>0.0</td>\n",
       "      <td>0.0</td>\n",
       "      <td>0.0</td>\n",
       "      <td>0.0</td>\n",
       "      <td>...</td>\n",
       "      <td>0.0</td>\n",
       "      <td>0.0</td>\n",
       "      <td>0.0</td>\n",
       "      <td>0.0</td>\n",
       "      <td>0.0</td>\n",
       "      <td>0.0</td>\n",
       "      <td>1.0</td>\n",
       "      <td>0.560000</td>\n",
       "      <td>4.427601</td>\n",
       "      <td>stim_only</td>\n",
       "    </tr>\n",
       "  </tbody>\n",
       "</table>\n",
       "<p>5 rows × 279 columns</p>\n",
       "</div>"
      ],
      "text/plain": [
       "   peak_len  tfbs_count  tfbs_density  uniq_tfbs_count  AIRE  AP1/1  AP1/2  \\\n",
       "0  0.139734    0.036000      0.062449         0.333333   0.0    1.0    1.0   \n",
       "1  0.435361    0.065778      0.054718         0.493827   1.0    1.0    1.0   \n",
       "6  0.260456    0.056000      0.067300         0.425926   0.0    0.0    1.0   \n",
       "7  0.029468    0.015556      0.046184         0.185185   0.0    0.0    0.0   \n",
       "9  0.041825    0.020444      0.055663         0.160494   0.0    1.0    0.0   \n",
       "\n",
       "   ARI5A  ARI5B  BATF  ...  ZNF708  ZNF713  ZNF768  ZNF784  ZNF85  ZSCAN3  \\\n",
       "0    0.0    0.0   0.0  ...     0.0     0.0     1.0     0.0    0.0     0.0   \n",
       "1    0.0    0.0   1.0  ...     0.0     0.0     1.0     0.0    0.0     0.0   \n",
       "6    0.0    0.0   1.0  ...     0.0     0.0     0.0     0.0    0.0     0.0   \n",
       "7    0.0    0.0   0.0  ...     0.0     0.0     0.0     0.0    1.0     0.0   \n",
       "9    0.0    0.0   0.0  ...     0.0     0.0     0.0     0.0    0.0     0.0   \n",
       "\n",
       "   ZSCAN4  uniq_score       ent      state  \n",
       "0     0.0    0.658824  5.603164  stim_only  \n",
       "1     1.0    0.539474  5.979183  stim_only  \n",
       "6     0.0    0.546154  5.630006  stim_only  \n",
       "7     0.0    0.820513  4.926428  stim_only  \n",
       "9     1.0    0.560000  4.427601  stim_only  \n",
       "\n",
       "[5 rows x 279 columns]"
      ]
     },
     "execution_count": 139,
     "metadata": {},
     "output_type": "execute_result"
    }
   ],
   "source": [
    "#%% STIM V. UNSTIM ANALYSIS\n",
    "df_stim_unstim = merged_and_scaled_data.loc[merged_and_scaled_data.state !=\"shared_only\"] # exclude shared only state\n",
    "df_stim_unstim.head()"
   ]
  },
  {
   "cell_type": "markdown",
   "metadata": {},
   "source": [
    "# train, test split"
   ]
  },
  {
   "cell_type": "code",
   "execution_count": 142,
   "metadata": {
    "scrolled": true
   },
   "outputs": [
    {
     "data": {
      "text/plain": [
       "['AIRE',\n",
       " 'AP1/1',\n",
       " 'AP1/2',\n",
       " 'ARI5A',\n",
       " 'ARI5B',\n",
       " 'BATF',\n",
       " 'BCL6/1',\n",
       " 'BCL6/2',\n",
       " 'CCAAT/CEBP',\n",
       " 'CENBP',\n",
       " 'CPEB1',\n",
       " 'CREB/ATF/1',\n",
       " 'CREB/ATF/2',\n",
       " 'CREB/ATF/3',\n",
       " 'CREB3/XBP1',\n",
       " 'CTCF',\n",
       " 'CUX/1',\n",
       " 'CUX/2',\n",
       " 'CUX/3',\n",
       " 'CUX/4',\n",
       " 'DDIT3+CEBPA',\n",
       " 'DMRT1',\n",
       " 'DMRT3',\n",
       " 'E2F/1',\n",
       " 'E2F/2',\n",
       " 'E2F/3',\n",
       " 'E2F/4',\n",
       " 'EBF1',\n",
       " 'EGR',\n",
       " 'ETS/1',\n",
       " 'ETS/2',\n",
       " 'EVI1/MECOM',\n",
       " 'EWSR1/FLI1',\n",
       " 'Ebox/CACCTG',\n",
       " 'Ebox/CACGTG/1',\n",
       " 'Ebox/CACGTG/2',\n",
       " 'Ebox/CAGATGG',\n",
       " 'Ebox/CAGCTG',\n",
       " 'Ebox/CATATG',\n",
       " 'FEZF1',\n",
       " 'FOX/1',\n",
       " 'FOX/2',\n",
       " 'FOX/3',\n",
       " 'FOX/4',\n",
       " 'FOX/5',\n",
       " 'FOX/6',\n",
       " 'FOX/7',\n",
       " 'FOX/8',\n",
       " 'FOX/9',\n",
       " 'GATA',\n",
       " 'GC-tract',\n",
       " 'GCM',\n",
       " 'GFI',\n",
       " 'GLI',\n",
       " 'GLIS',\n",
       " 'GMEB2/1',\n",
       " 'GMEB2/2',\n",
       " 'GMEB2/3',\n",
       " 'GRHL',\n",
       " 'HAND1',\n",
       " 'HD/1',\n",
       " 'HD/10',\n",
       " 'HD/11',\n",
       " 'HD/12',\n",
       " 'HD/14',\n",
       " 'HD/15',\n",
       " 'HD/16',\n",
       " 'HD/17',\n",
       " 'HD/18',\n",
       " 'HD/19',\n",
       " 'HD/2',\n",
       " 'HD/21',\n",
       " 'HD/22',\n",
       " 'HD/23',\n",
       " 'HD/24',\n",
       " 'HD/25',\n",
       " 'HD/3',\n",
       " 'HD/4',\n",
       " 'HD/5',\n",
       " 'HD/6',\n",
       " 'HD/7',\n",
       " 'HD/8',\n",
       " 'HD/9',\n",
       " 'HEN1',\n",
       " 'HIC/1',\n",
       " 'HIC/2',\n",
       " 'HIF',\n",
       " 'HINFP1/1',\n",
       " 'HINFP1/2',\n",
       " 'HINFP1/3',\n",
       " 'HOMEZ',\n",
       " 'HSF',\n",
       " 'HSFY2',\n",
       " 'INSM1',\n",
       " 'IRF/1',\n",
       " 'IRF/2',\n",
       " 'IRF/3',\n",
       " 'IRF/4',\n",
       " 'KAISO',\n",
       " 'KLF/SP/1',\n",
       " 'KLF/SP/2',\n",
       " 'KLF/SP/3',\n",
       " 'LEF1',\n",
       " 'LIN54',\n",
       " 'MAF',\n",
       " 'MBD2',\n",
       " 'MECP2',\n",
       " 'MEF2',\n",
       " 'MFZ1',\n",
       " 'MIES',\n",
       " 'MTF1',\n",
       " 'MYB/1',\n",
       " 'MYB/2',\n",
       " 'MYB/3',\n",
       " 'MYB/4',\n",
       " 'MYB/5',\n",
       " 'MZF1',\n",
       " 'NFAC/2',\n",
       " 'NFAT/1',\n",
       " 'NFAT/2',\n",
       " 'NFAT/3',\n",
       " 'NFAT/4',\n",
       " 'NFI/1',\n",
       " 'NFI/3',\n",
       " 'NFKB/1',\n",
       " 'NFKB/2',\n",
       " 'NFKB/3',\n",
       " 'NFY',\n",
       " 'NR/1',\n",
       " 'NR/10',\n",
       " 'NR/11',\n",
       " 'NR/12',\n",
       " 'NR/13',\n",
       " 'NR/14',\n",
       " 'NR/15',\n",
       " 'NR/16',\n",
       " 'NR/17',\n",
       " 'NR/18',\n",
       " 'NR/19',\n",
       " 'NR/2',\n",
       " 'NR/20',\n",
       " 'NR/3',\n",
       " 'NR/4',\n",
       " 'NR/5',\n",
       " 'NR/6',\n",
       " 'NR/7',\n",
       " 'NR/8',\n",
       " 'NR/9',\n",
       " 'NRF1',\n",
       " 'OCT4+SOX2',\n",
       " 'OSR2',\n",
       " 'OVOL1',\n",
       " 'P53-like/1',\n",
       " 'P53-like/2',\n",
       " 'P53-like/3',\n",
       " 'PAX/1',\n",
       " 'PAX/2',\n",
       " 'PLAG1',\n",
       " 'POU/1',\n",
       " 'POU/2',\n",
       " 'POU/3',\n",
       " 'PRDM1',\n",
       " 'PRDM14',\n",
       " 'PRDM16',\n",
       " 'PRDM4',\n",
       " 'PRDM5',\n",
       " 'PRDM9',\n",
       " 'PROX1',\n",
       " 'RBPJ',\n",
       " 'REL-halfsite',\n",
       " 'REST/NRSF',\n",
       " 'RFX/1',\n",
       " 'RFX/2',\n",
       " 'RFX/3',\n",
       " 'RUNX/1',\n",
       " 'RUNX/2',\n",
       " 'SCRT1',\n",
       " 'SIX/1',\n",
       " 'SIX/2',\n",
       " 'SMAD',\n",
       " 'SMARCA1',\n",
       " 'SMARCA5',\n",
       " 'SOX/1',\n",
       " 'SOX/3',\n",
       " 'SOX/4',\n",
       " 'SOX/5',\n",
       " 'SOX/6',\n",
       " 'SOX/7',\n",
       " 'SOX/8',\n",
       " 'SPDEF/1',\n",
       " 'SPDEF/2',\n",
       " 'SPI',\n",
       " 'SPZ1',\n",
       " 'SREBF1',\n",
       " 'SRF',\n",
       " 'STAT/1',\n",
       " 'STAT/2',\n",
       " 'TATA',\n",
       " 'TBX/1',\n",
       " 'TBX/2',\n",
       " 'TBX/3',\n",
       " 'TBX/4',\n",
       " 'TCF/LEF',\n",
       " 'TEAD',\n",
       " 'TFAP2/1',\n",
       " 'TFAP2/2',\n",
       " 'TFCP2',\n",
       " 'THAP1',\n",
       " 'YY1',\n",
       " 'ZBED1',\n",
       " 'ZBTB14',\n",
       " 'ZBTB48',\n",
       " 'ZBTB49',\n",
       " 'ZBTB6',\n",
       " 'ZBTB7A',\n",
       " 'ZFN121',\n",
       " 'ZFX',\n",
       " 'ZIC',\n",
       " 'ZIC/2',\n",
       " 'ZIM3',\n",
       " 'ZKSCAN1',\n",
       " 'ZNF134',\n",
       " 'ZNF136',\n",
       " 'ZNF140',\n",
       " 'ZNF143',\n",
       " 'ZNF146',\n",
       " 'ZNF232',\n",
       " 'ZNF24',\n",
       " 'ZNF250',\n",
       " 'ZNF257',\n",
       " 'ZNF274',\n",
       " 'ZNF28',\n",
       " 'ZNF282',\n",
       " 'ZNF306',\n",
       " 'ZNF317',\n",
       " 'ZNF320',\n",
       " 'ZNF324',\n",
       " 'ZNF329',\n",
       " 'ZNF331',\n",
       " 'ZNF332',\n",
       " 'ZNF335',\n",
       " 'ZNF354',\n",
       " 'ZNF382',\n",
       " 'ZNF384/1',\n",
       " 'ZNF384/2',\n",
       " 'ZNF41',\n",
       " 'ZNF410',\n",
       " 'ZNF418',\n",
       " 'ZNF423',\n",
       " 'ZNF431',\n",
       " 'ZNF435',\n",
       " 'ZNF436',\n",
       " 'ZNF449',\n",
       " 'ZNF490',\n",
       " 'ZNF524',\n",
       " 'ZNF528',\n",
       " 'ZNF547',\n",
       " 'ZNF549',\n",
       " 'ZNF554',\n",
       " 'ZNF563',\n",
       " 'ZNF57',\n",
       " 'ZNF586',\n",
       " 'ZNF652',\n",
       " 'ZNF667',\n",
       " 'ZNF680',\n",
       " 'ZNF708',\n",
       " 'ZNF713',\n",
       " 'ZNF768',\n",
       " 'ZNF784',\n",
       " 'ZNF85',\n",
       " 'ZSCAN3',\n",
       " 'ZSCAN4',\n",
       " 'uniq_score',\n",
       " 'ent',\n",
       " 'peak_len',\n",
       " 'tfbs_count',\n",
       " 'tfbs_density',\n",
       " 'uniq_tfbs_count']"
      ]
     },
     "execution_count": 142,
     "metadata": {},
     "output_type": "execute_result"
    }
   ],
   "source": [
    "# subset the data array by X and y vars\n",
    "X = df_stim_unstim [Xvars]\n",
    "y = df_stim_unstim [yvars]"
   ]
  },
  {
   "cell_type": "code",
   "execution_count": 147,
   "metadata": {},
   "outputs": [],
   "source": [
    "# split up the data \n",
    "X_train, X_test, y_train, y_test = train_test_split(X, y, random_state = 0)"
   ]
  },
  {
   "cell_type": "code",
   "execution_count": 148,
   "metadata": {},
   "outputs": [
    {
     "data": {
      "text/plain": [
       "((24669, 278), (24669, 1), (8224, 278), (8224, 1))"
      ]
     },
     "execution_count": 148,
     "metadata": {},
     "output_type": "execute_result"
    }
   ],
   "source": [
    "X_train.shape, y_train.shape, X_test.shape, y_test.shape"
   ]
  },
  {
   "cell_type": "code",
   "execution_count": 152,
   "metadata": {},
   "outputs": [
    {
     "data": {
      "text/html": [
       "<div>\n",
       "<style scoped>\n",
       "    .dataframe tbody tr th:only-of-type {\n",
       "        vertical-align: middle;\n",
       "    }\n",
       "\n",
       "    .dataframe tbody tr th {\n",
       "        vertical-align: top;\n",
       "    }\n",
       "\n",
       "    .dataframe thead th {\n",
       "        text-align: right;\n",
       "    }\n",
       "</style>\n",
       "<table border=\"1\" class=\"dataframe\">\n",
       "  <thead>\n",
       "    <tr style=\"text-align: right;\">\n",
       "      <th></th>\n",
       "      <th>state</th>\n",
       "    </tr>\n",
       "  </thead>\n",
       "  <tbody>\n",
       "    <tr>\n",
       "      <th>6028</th>\n",
       "      <td>stim_only</td>\n",
       "    </tr>\n",
       "    <tr>\n",
       "      <th>28812</th>\n",
       "      <td>unstim_only</td>\n",
       "    </tr>\n",
       "    <tr>\n",
       "      <th>15482</th>\n",
       "      <td>stim_only</td>\n",
       "    </tr>\n",
       "    <tr>\n",
       "      <th>24782</th>\n",
       "      <td>stim_only</td>\n",
       "    </tr>\n",
       "    <tr>\n",
       "      <th>45118</th>\n",
       "      <td>stim_only</td>\n",
       "    </tr>\n",
       "    <tr>\n",
       "      <th>...</th>\n",
       "      <td>...</td>\n",
       "    </tr>\n",
       "    <tr>\n",
       "      <th>3047</th>\n",
       "      <td>stim_only</td>\n",
       "    </tr>\n",
       "    <tr>\n",
       "      <th>6886</th>\n",
       "      <td>stim_only</td>\n",
       "    </tr>\n",
       "    <tr>\n",
       "      <th>17919</th>\n",
       "      <td>stim_only</td>\n",
       "    </tr>\n",
       "    <tr>\n",
       "      <th>440</th>\n",
       "      <td>stim_only</td>\n",
       "    </tr>\n",
       "    <tr>\n",
       "      <th>13030</th>\n",
       "      <td>stim_only</td>\n",
       "    </tr>\n",
       "  </tbody>\n",
       "</table>\n",
       "<p>8224 rows × 1 columns</p>\n",
       "</div>"
      ],
      "text/plain": [
       "             state\n",
       "6028     stim_only\n",
       "28812  unstim_only\n",
       "15482    stim_only\n",
       "24782    stim_only\n",
       "45118    stim_only\n",
       "...            ...\n",
       "3047     stim_only\n",
       "6886     stim_only\n",
       "17919    stim_only\n",
       "440      stim_only\n",
       "13030    stim_only\n",
       "\n",
       "[8224 rows x 1 columns]"
      ]
     },
     "execution_count": 152,
     "metadata": {},
     "output_type": "execute_result"
    }
   ],
   "source": [
    "y_test"
   ]
  },
  {
   "cell_type": "markdown",
   "metadata": {},
   "source": [
    "# add tenfold cross validation, logistic regression (old)"
   ]
  },
  {
   "cell_type": "code",
   "execution_count": 161,
   "metadata": {},
   "outputs": [],
   "source": [
    "def calc_tenfold_cv_auroc(model, X, y):\n",
    "\n",
    "    # fit training data to logistic regression and measure mean auroc score from cross validation\n",
    "    # define evaluation procedure\n",
    "    \n",
    "    cv = RepeatedStratifiedKFold(n_splits=10, n_repeats=1, random_state=1)\n",
    "    \n",
    "    # evaluate cross_validation scores in model\n",
    "    scores = cross_val_score(model, X, y, scoring='roc_auc', cv=cv, n_jobs=-1)\n",
    "    \n",
    "    # summarize performance\n",
    "    print('Mean ROC AUC: %.3f' % mean(scores))\n",
    "    \n",
    "    return cv"
   ]
  },
  {
   "cell_type": "code",
   "execution_count": 154,
   "metadata": {},
   "outputs": [],
   "source": [
    "#%% LOGISTIC REGRESSION FUNCTION\n",
    "def logistic_regression(X, y, sid):\n",
    "\n",
    "    # call logistic regression model\n",
    "    model = LogisticRegression(max_iter = 7000, class_weight = \"balanced\")\n",
    "\n",
    "    # 10-fold cross validation to measure mean auroc score\n",
    "    cv = calc_tenfold_cv_auroc(model, X, y)\n",
    "\n",
    "    tprs = []\n",
    "    aucs = []\n",
    "    prs = []\n",
    "    pr_aucs = []\n",
    "    mean_recall = np.linspace(0, 1, 100)\n",
    "    mean_baseline = []\n",
    "    mean_fpr = np.linspace(0, 1, 100)\n",
    "\n",
    "    fig, (ax, ax2) = plt.subplots(ncols = 2, figsize = (12,6)) # for roc_auc\n",
    "\n",
    "    for i, (train, test) in enumerate(cv.split(X, y)):\n",
    "        model.fit(X[train], y[train])\n",
    "        \n",
    "        viz = plot_roc_curve(model, X[test], y[test],\n",
    "                             name='ROC fold {}'.format(i),\n",
    "                             alpha=0.3, lw=1, ax=ax)\n",
    "        \n",
    "        interp_tpr = np.interp(mean_fpr, viz.fpr, viz.tpr) # interpolate mean_fpr\n",
    "        interp_tpr[0] = 0.0\n",
    "\n",
    "        tprs.append(interp_tpr)\n",
    "        aucs.append(viz.roc_auc)\n",
    "\n",
    "        y_pred = model.predict(X[test]) # make predictions on test\n",
    "        y_probs = model.predict_proba(X[test])[:,1]\n",
    "\n",
    "        cm = metrics.confusion_matrix(y[test], y_pred) # confusion matrix\n",
    "\n",
    "        baseline = cm[1].sum()/cm.sum() # calculate baseline as true /total pos.\n",
    "        mean_baseline.append(baseline)\n",
    "\n",
    "\n",
    "        precision, recall, _ = precision_recall_curve(y[test],y_probs)\n",
    "        \n",
    "        prs.append(np.interp(mean_recall, precision, recall)) # add predictions\n",
    "        pr_auc = auc(recall, precision) # calculate aucs\n",
    "        pr_aucs.append(pr_auc) # append to pr_aucs\n",
    "        prcurve = plot_precision_recall_curve(model, X[test], y[test],\\\n",
    "        name='PR fold {}'.format(i),\n",
    "        alpha=0.3, lw=1, ax=ax2)\n",
    "\n",
    "        \n",
    "        ax2.set(xlabel = \"Recall\", ylabel= \"Precision\",\\\n",
    "        title = \"PR - %s\" % (sid))\n",
    "        ax2.legend(loc=\"upper right\")\n",
    "        ax2.axhline(baseline, ls = '--')#, color ='k')\n",
    "\n",
    "    #summarize roc_auc\n",
    "    \n",
    "    ax.plot([0, 1], [0, 1], linestyle='--', lw=2, color='r',\n",
    "            label='Chance', alpha=.8)\n",
    "\n",
    "    mean_tpr = np.mean(tprs, axis=0)\n",
    "    mean_tpr[-1] = 1.0\n",
    "    mean_auc = auc(mean_fpr, mean_tpr)\n",
    "    std_auc = np.std(aucs)\n",
    "    ax.plot(mean_fpr, mean_tpr, color='b',\n",
    "            label=r'Mean ROC (AUC = %0.2f $\\pm$ %0.2f)' % (mean_auc, std_auc),\n",
    "            lw=2, alpha=.8)\n",
    "\n",
    "    std_tpr = np.std(tprs, axis=0)\n",
    "    tprs_upper = np.minimum(mean_tpr + std_tpr, 1)\n",
    "    tprs_lower = np.maximum(mean_tpr - std_tpr, 0)\n",
    "    ax.fill_between(mean_fpr, tprs_lower, tprs_upper, color='grey', alpha=.2,\n",
    "                    label=r'$\\pm$ 1 std. dev.')\n",
    "\n",
    "    ax.set(xlim=[-0.05, 1.05], ylim=[-0.05, 1.05],\n",
    "           title=\"auROC %s\" % (sid))\n",
    "    ax.legend(loc = \"lower right\")\n",
    "\n",
    "    # summarize pr\n",
    "\n",
    "    mean_precision = np.mean(prs, axis=0)\n",
    "    mean_auc = auc(mean_recall, mean_precision)\n",
    "    std_auc = np.std(pr_aucs)\n",
    "    #mean_recall[-1] = np.mean(mean_baseline)\n",
    "    ax2.plot(mean_precision, mean_recall, color='navy',\n",
    "             label=r'Mean (AUCPR = %0.2f $\\pm$ %0.2f)' % (mean_auc, std_auc),\n",
    "             lw=2)\n",
    "    ax2.axhline(np.mean(mean_baseline), ls = \"--\", color =\"r\",\\\n",
    "      label='mean_baseline')\n",
    "\n",
    "    ax2.set(xlim = [-0.05, 1.05], ylim = [(np.mean(mean_baseline)-0.1), 1.05],\n",
    "    xlabel = 'Recall', ylabel = 'Precision', title=\"PR %s\" % (sid))\n",
    "    ax2.legend(loc = \"lower right\")\n",
    "\n",
    "    plt.show()\n",
    "\n",
    "    return fig, model"
   ]
  },
  {
   "cell_type": "markdown",
   "metadata": {},
   "source": [
    "# Let's dissect the logistic regression function (which is too big, too unwieldy, and needs to be refactored!)"
   ]
  },
  {
   "cell_type": "code",
   "execution_count": 156,
   "metadata": {},
   "outputs": [],
   "source": [
    "# call model\n",
    "model = LogisticRegression(max_iter = 7000, class_weight = \"balanced\")"
   ]
  },
  {
   "cell_type": "code",
   "execution_count": 163,
   "metadata": {},
   "outputs": [
    {
     "data": {
      "text/plain": [
       "RepeatedStratifiedKFold(n_repeats=1, n_splits=10, random_state=1)"
      ]
     },
     "execution_count": 163,
     "metadata": {},
     "output_type": "execute_result"
    }
   ],
   "source": [
    "# run 10x cross validation and get auroc scores\n",
    "cv = calc_tenfold_cv_auroc(model, X, y)"
   ]
  },
  {
   "cell_type": "markdown",
   "metadata": {},
   "source": [
    "# these are lists for if you were to run cross-validation on the training set and plot model performance on those splits. We don't use them here!"
   ]
  },
  {
   "cell_type": "code",
   "execution_count": 157,
   "metadata": {},
   "outputs": [],
   "source": [
    "# initialize a bunch of lists for collecting data\n",
    "tprs, aucs = [], []\n",
    "\n",
    "\n",
    "prs = []\n",
    "pr_aucs = []\n",
    "mean_recall = np.linspace(0, 1, 100)\n",
    "mean_baseline = []\n",
    "mean_fpr = np.linspace(0, 1, 100)"
   ]
  },
  {
   "cell_type": "markdown",
   "metadata": {},
   "source": [
    "# FIT THE MODEL!!!"
   ]
  },
  {
   "cell_type": "code",
   "execution_count": 158,
   "metadata": {},
   "outputs": [
    {
     "name": "stderr",
     "output_type": "stream",
     "text": [
      "/home/fongsl/.conda/envs/sfenv/lib/python3.6/site-packages/sklearn/utils/validation.py:73: DataConversionWarning: A column-vector y was passed when a 1d array was expected. Please change the shape of y to (n_samples, ), for example using ravel().\n",
      "  return f(**kwargs)\n"
     ]
    },
    {
     "data": {
      "text/plain": [
       "LogisticRegression(class_weight='balanced', max_iter=7000)"
      ]
     },
     "execution_count": 158,
     "metadata": {},
     "output_type": "execute_result"
    }
   ],
   "source": [
    "# fit the model w/ training data\n",
    "model.fit(X_train, y_train)"
   ]
  },
  {
   "cell_type": "markdown",
   "metadata": {},
   "source": [
    "# plot the auroc curve function"
   ]
  },
  {
   "cell_type": "code",
   "execution_count": 178,
   "metadata": {},
   "outputs": [
    {
     "data": {
      "image/png": "[encoded data removed]",
      "text/plain": [
       "<Figure size 432x432 with 1 Axes>"
      ]
     },
     "metadata": {
      "needs_background": "light"
     },
     "output_type": "display_data"
    }
   ],
   "source": [
    "def plot_auroc_curve(model, X_train, y_train, mean_fpr, tprs, aucs):\n",
    "    \n",
    "    fig, ax = plt.subplots(figsize=(6,6)) # make a plot\n",
    "\n",
    "    viz = plot_roc_curve(model, X_train, y_train, \n",
    "                         #name='ROC fold {}'.format(i),\n",
    "                         alpha=0.3, lw=1, ax=ax) # call the plot_roc_curve function from sklearn and fill plot\n",
    "    \n",
    "    interp_tpr = np.interp(mean_fpr, viz.fpr, viz.tpr) # interpolate mean_fpr for plotting \n",
    "    interp_tpr[0] = 0.0 # make sure that the plot intersects (0,0)\n",
    "    \n",
    "    tprs.append(interp_tpr) # append the interpolated true positive rate to list, \n",
    "    aucs.append(viz.roc_auc) # append the roc_auc value to list\n",
    "\n",
    "    return tprs, aucs"
   ]
  },
  {
   "cell_type": "markdown",
   "metadata": {},
   "source": [
    "## fit the model to the test data"
   ]
  },
  {
   "cell_type": "code",
   "execution_count": null,
   "metadata": {},
   "outputs": [],
   "source": [
    "y_pred = model.predict(X_test) # make predictions on the held-out testset\n",
    "y_probs = model.predict_proba(X_test)[:,1] # prediction probabilities."
   ]
  },
  {
   "cell_type": "markdown",
   "metadata": {},
   "source": [
    "# confusion matrix"
   ]
  },
  {
   "cell_type": "code",
   "execution_count": 194,
   "metadata": {},
   "outputs": [
    {
     "data": {
      "text/plain": [
       "<matplotlib.axes._subplots.AxesSubplot at 0x7ff39e9f8cc0>"
      ]
     },
     "execution_count": 194,
     "metadata": {},
     "output_type": "execute_result"
    },
    {
     "data": {
      "image/png": "[encoded data removed]",
      "text/plain": [
       "<Figure size 432x288 with 2 Axes>"
      ]
     },
     "metadata": {
      "needs_background": "light"
     },
     "output_type": "display_data"
    }
   ],
   "source": [
    "def get_confusion_matrix(y_test, y_pred):\n",
    "    cm = metrics.confusion_matrix(y_test, y_pred) # confusion matrix\n",
    "    cm_df = pd.DataFrame(cm)\n",
    "    sns.heatmap(cm_df, annot = True, fmt = \"d\")\n",
    "    \n",
    "    return cm"
   ]
  },
  {
   "cell_type": "markdown",
   "metadata": {},
   "source": [
    "# plot the PR curve"
   ]
  },
  {
   "cell_type": "code",
   "execution_count": 199,
   "metadata": {},
   "outputs": [
    {
     "data": {
      "text/plain": [
       "<matplotlib.lines.Line2D at 0x7ff39f58b518>"
      ]
     },
     "execution_count": 199,
     "metadata": {},
     "output_type": "execute_result"
    },
    {
     "data": {
      "image/png": "[encoded data removed]",
      "text/plain": [
       "<Figure size 432x432 with 1 Axes>"
      ]
     },
     "metadata": {
      "needs_background": "light"
     },
     "output_type": "display_data"
    }
   ],
   "source": [
    "pos_label = \"unstim_only\"\n",
    "\n",
    "def plot_pr(cm, mean_baseline, model, X_test, y_test, y_probs, pos_label):\n",
    "\n",
    "    baseline = cm[1].sum()/cm.sum() # calculate baseline as true total pos.\n",
    "    mean_baseline.append(baseline) # add baseline to mean baseline list\n",
    "    \n",
    "    # generate precision recall curve\n",
    "    precision, recall, _ = precision_recall_curve(y_test,y_probs, pos_label = pos_label)\n",
    "\n",
    "    # for CV validation, not important rn\n",
    "    prs.append(np.interp(mean_recall, precision, recall)) # add predictions\n",
    "    pr_auc = auc(recall, precision) # calculate aucs\n",
    "    pr_aucs.append(pr_auc) # append to pr_aucs\n",
    "\n",
    "    # plot the precision recall curve!\n",
    "    fig, ax = plt.subplots(figsize = (6,6) )\n",
    "\n",
    "    prcurve = plot_precision_recall_curve(model, X_test, y_test,                   \n",
    "    #name='PR fold {}'.format(i),\n",
    "    alpha=0.3, lw=1, ax=ax)\n",
    "\n",
    "    \n",
    "    # add the total positive baseline to the plot \n",
    "    ax.axhline(np.mean(mean_baseline), ls = \"--\", color =\"r\",\\\n",
    "      label='mean_baseline')"
   ]
  },
  {
   "cell_type": "code",
   "execution_count": 26,
   "metadata": {},
   "outputs": [],
   "source": [
    "#p.savefig(\"%slogistic_regression_cv_%s.pdf\" % (RE, sid), bbox_inches = \"tight\")"
   ]
  }
 ],
 "metadata": {
  "kernelspec": {
   "display_name": "Python 3",
   "language": "python",
   "name": "python3"
  },
  "language_info": {
   "codemirror_mode": {
    "name": "ipython",
    "version": 3
   },
   "file_extension": ".py",
   "mimetype": "text/x-python",
   "name": "python",
   "nbconvert_exporter": "python",
   "pygments_lexer": "ipython3",
   "version": "3.6.10"
  }
 },
 "nbformat": 4,
 "nbformat_minor": 2
}
